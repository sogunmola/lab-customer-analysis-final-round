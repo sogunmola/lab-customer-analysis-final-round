{
 "cells": [
  {
   "cell_type": "code",
   "execution_count": 1,
   "metadata": {},
   "outputs": [],
   "source": [
    "# Import Libraries\n",
    "import pandas as pd\n",
    "import numpy as np\n",
    "import matplotlib.pyplot as plt\n",
    "import seaborn as sns\n",
    "%matplotlib inline"
   ]
  },
  {
   "cell_type": "markdown",
   "metadata": {},
   "source": [
    "## 01 - Problem (case study)"
   ]
  },
  {
   "cell_type": "markdown",
   "metadata": {},
   "source": [
    "## 02 - Getting Data"
   ]
  },
  {
   "cell_type": "code",
   "execution_count": 2,
   "metadata": {},
   "outputs": [],
   "source": [
    "# Import of customer marketing analysisfile and setting df as \"Mktcus\"\n",
    "\n",
    "mktcus = pd.read_csv(\"marketing_customer_analysis.csv\")"
   ]
  },
  {
   "cell_type": "markdown",
   "metadata": {},
   "source": [
    "## 03 - Cleaning/Wrangling/EDA"
   ]
  },
  {
   "cell_type": "code",
   "execution_count": 3,
   "metadata": {},
   "outputs": [
    {
     "data": {
      "text/plain": [
       "['Customer',\n",
       " 'State',\n",
       " 'Customer Lifetime Value',\n",
       " 'Response',\n",
       " 'Coverage',\n",
       " 'Education',\n",
       " 'Effective To Date',\n",
       " 'EmploymentStatus',\n",
       " 'Gender',\n",
       " 'Income',\n",
       " 'Location Code',\n",
       " 'Marital Status',\n",
       " 'Monthly Premium Auto',\n",
       " 'Months Since Last Claim',\n",
       " 'Months Since Policy Inception',\n",
       " 'Number of Open Complaints',\n",
       " 'Number of Policies',\n",
       " 'Policy Type',\n",
       " 'Policy',\n",
       " 'Renew Offer Type',\n",
       " 'Sales Channel',\n",
       " 'Total Claim Amount',\n",
       " 'Vehicle Class',\n",
       " 'Vehicle Size']"
      ]
     },
     "execution_count": 3,
     "metadata": {},
     "output_type": "execute_result"
    }
   ],
   "source": [
    "#1/ Header check\n",
    "\n",
    "list(mktcus.columns)"
   ]
  },
  {
   "cell_type": "code",
   "execution_count": 4,
   "metadata": {},
   "outputs": [
    {
     "data": {
      "text/plain": [
       "['customer',\n",
       " 'state',\n",
       " 'customerlifetimevalue',\n",
       " 'response',\n",
       " 'coverage',\n",
       " 'education',\n",
       " 'effectivetodate',\n",
       " 'employmentstatus',\n",
       " 'gender',\n",
       " 'income',\n",
       " 'locationcode',\n",
       " 'maritalstatus',\n",
       " 'monthlypremiumauto',\n",
       " 'monthssincelastclaim',\n",
       " 'monthssincepolicyinception',\n",
       " 'numberofopencomplaints',\n",
       " 'numberofpolicies',\n",
       " 'policytype',\n",
       " 'policy',\n",
       " 'renewoffertype',\n",
       " 'saleschannel',\n",
       " 'totalclaimamount',\n",
       " 'vehicleclass',\n",
       " 'vehiclesize']"
      ]
     },
     "execution_count": 4,
     "metadata": {},
     "output_type": "execute_result"
    }
   ],
   "source": [
    "#1.1/ Changing header names\n",
    "mktcus.columns = mktcus.columns.str.replace(' ','')\n",
    "mktcus.columns = mktcus.columns.str.lower()\n",
    "\n",
    "list(mktcus.columns)"
   ]
  },
  {
   "cell_type": "code",
   "execution_count": 5,
   "metadata": {},
   "outputs": [
    {
     "name": "stdout",
     "output_type": "stream",
     "text": [
      "customer                      0\n",
      "state                         0\n",
      "customerlifetimevalue         0\n",
      "response                      0\n",
      "coverage                      0\n",
      "education                     0\n",
      "effectivetodate               0\n",
      "employmentstatus              0\n",
      "gender                        0\n",
      "income                        0\n",
      "locationcode                  0\n",
      "maritalstatus                 0\n",
      "monthlypremiumauto            0\n",
      "monthssincelastclaim          0\n",
      "monthssincepolicyinception    0\n",
      "numberofopencomplaints        0\n",
      "numberofpolicies              0\n",
      "policytype                    0\n",
      "policy                        0\n",
      "renewoffertype                0\n",
      "saleschannel                  0\n",
      "totalclaimamount              0\n",
      "vehicleclass                  0\n",
      "vehiclesize                   0\n",
      "dtype: int64\n"
     ]
    }
   ],
   "source": [
    "#2.1/ Deal with NaN values\n",
    "print(mktcus.isnull().sum())"
   ]
  },
  {
   "cell_type": "code",
   "execution_count": 6,
   "metadata": {},
   "outputs": [
    {
     "name": "stdout",
     "output_type": "stream",
     "text": [
      "<class 'pandas.core.frame.DataFrame'>\n",
      "RangeIndex: 9134 entries, 0 to 9133\n",
      "Data columns (total 16 columns):\n",
      " #   Column            Non-Null Count  Dtype \n",
      "---  ------            --------------  ----- \n",
      " 0   customer          9134 non-null   object\n",
      " 1   state             9134 non-null   object\n",
      " 2   response          9134 non-null   object\n",
      " 3   coverage          9134 non-null   object\n",
      " 4   education         9134 non-null   object\n",
      " 5   effectivetodate   9134 non-null   object\n",
      " 6   employmentstatus  9134 non-null   object\n",
      " 7   gender            9134 non-null   object\n",
      " 8   locationcode      9134 non-null   object\n",
      " 9   maritalstatus     9134 non-null   object\n",
      " 10  policytype        9134 non-null   object\n",
      " 11  policy            9134 non-null   object\n",
      " 12  renewoffertype    9134 non-null   object\n",
      " 13  saleschannel      9134 non-null   object\n",
      " 14  vehicleclass      9134 non-null   object\n",
      " 15  vehiclesize       9134 non-null   object\n",
      "dtypes: object(16)\n",
      "memory usage: 1.1+ MB\n"
     ]
    }
   ],
   "source": [
    "#2.2/ Categorical Features\n",
    "(mktcus.select_dtypes(\"object\")).info()"
   ]
  },
  {
   "cell_type": "code",
   "execution_count": 7,
   "metadata": {},
   "outputs": [
    {
     "name": "stdout",
     "output_type": "stream",
     "text": [
      "<class 'pandas.core.frame.DataFrame'>\n",
      "RangeIndex: 9134 entries, 0 to 9133\n",
      "Data columns (total 8 columns):\n",
      " #   Column                      Non-Null Count  Dtype  \n",
      "---  ------                      --------------  -----  \n",
      " 0   customerlifetimevalue       9134 non-null   float64\n",
      " 1   income                      9134 non-null   int64  \n",
      " 2   monthlypremiumauto          9134 non-null   int64  \n",
      " 3   monthssincelastclaim        9134 non-null   int64  \n",
      " 4   monthssincepolicyinception  9134 non-null   int64  \n",
      " 5   numberofopencomplaints      9134 non-null   int64  \n",
      " 6   numberofpolicies            9134 non-null   int64  \n",
      " 7   totalclaimamount            9134 non-null   float64\n",
      "dtypes: float64(2), int64(6)\n",
      "memory usage: 571.0 KB\n"
     ]
    }
   ],
   "source": [
    "#2.3/ Numerical Features\n",
    "(mktcus.select_dtypes(\"number\")).info()"
   ]
  },
  {
   "cell_type": "code",
   "execution_count": 63,
   "metadata": {},
   "outputs": [
    {
     "data": {
      "image/png": "[encoded data removed]",
      "text/plain": [
       "<Figure size 720x576 with 2 Axes>"
      ]
     },
     "metadata": {
      "needs_background": "light"
     },
     "output_type": "display_data"
    }
   ],
   "source": [
    "#Checking for multicollinearity\n",
    "corr_matrix = mktcusNUM.corr(method = 'spearman')\n",
    "fig, ax = plt.subplots(figsize=(10,8))\n",
    "ax = sns.heatmap(corr_matrix, annot = True)\n",
    "plt.show()"
   ]
  },
  {
   "cell_type": "code",
   "execution_count": null,
   "metadata": {},
   "outputs": [],
   "source": [
    "# Dropping unnesccary columns \"customer\" and \"effectivetodate\"\n",
    "mktcus = mktcus.drop(['customer', 'effectivetodate'], axis = True)"
   ]
  },
  {
   "cell_type": "markdown",
   "metadata": {},
   "source": [
    "## 04 - Processing Data"
   ]
  },
  {
   "cell_type": "code",
   "execution_count": 16,
   "metadata": {},
   "outputs": [],
   "source": [
    "#Setting df for categoricals(\"mktcusCAT\") and numericals (\"mktcusNUM\") only\n",
    "mktcusCAT = mktcus.select_dtypes(\"object\")\n",
    "mktcusNUM = mktcus.select_dtypes(\"number\")"
   ]
  },
  {
   "cell_type": "code",
   "execution_count": null,
   "metadata": {},
   "outputs": [],
   "source": [
    "#1.1 Dealing with outliers (plotting numercial data \"mktcusNUM\")\n",
    "columns = mktcusNUM.columns\n",
    "\n",
    "for i in range(len(columns)):\n",
    "    ax = sns.boxplot(x=mktcusNUM[columns[i]])\n",
    "    plt.show()"
   ]
  },
  {
   "cell_type": "code",
   "execution_count": 14,
   "metadata": {},
   "outputs": [],
   "source": [
    "#1.2 Identifying list of outliers\n",
    "def outlierscalc(mktcusNUM):\n",
    "    cols = mktcusNUM.columns\n",
    "    \n",
    "    for i in range(len(cols)):\n",
    "        Q1 = np.quantile(mktcusNUM[cols[i]],0.25)\n",
    "        Q3 = np.quantile(mktcusNUM[cols[i]],0.75)\n",
    "        UW = Q3+1.5*(Q3-Q1)\n",
    "        LW = Q1-1.5*(Q3-Q1)\n",
    "        \n",
    "        out_index = mktcusNUM[(mktcusNUM[cols[i]] < LW) |  (mktcusNUM[cols[i]] > UW)].index\n",
    "        \n",
    "        print(\"Number of outliers for\", cols[i],':', len(out_index))\n",
    "        \n",
    "    return"
   ]
  },
  {
   "cell_type": "code",
   "execution_count": 17,
   "metadata": {},
   "outputs": [
    {
     "name": "stdout",
     "output_type": "stream",
     "text": [
      "Number of outliers for customerlifetimevalue : 817\n",
      "Number of outliers for income : 0\n",
      "Number of outliers for monthlypremiumauto : 430\n",
      "Number of outliers for monthssincelastclaim : 0\n",
      "Number of outliers for monthssincepolicyinception : 0\n",
      "Number of outliers for numberofopencomplaints : 1882\n",
      "Number of outliers for numberofpolicies : 416\n",
      "Number of outliers for totalclaimamount : 453\n"
     ]
    }
   ],
   "source": [
    "#1.3 Number of outliers per column\n",
    "outlierscalc(mktcusNUM)"
   ]
  },
  {
   "cell_type": "code",
   "execution_count": 28,
   "metadata": {},
   "outputs": [],
   "source": [
    "#2/ Normalisation\n",
    "from sklearn.preprocessing import Normalizer"
   ]
  },
  {
   "cell_type": "code",
   "execution_count": 30,
   "metadata": {},
   "outputs": [],
   "source": [
    "# Using Normalizer\n",
    "transformer = Normalizer().fit(mktcusNUM)\n",
    "mktcusNUM_normalized = transformer.transform(mktcusNUM)"
   ]
  },
  {
   "cell_type": "code",
   "execution_count": 31,
   "metadata": {},
   "outputs": [
    {
     "data": {
      "text/plain": [
       "pandas.core.frame.DataFrame"
      ]
     },
     "execution_count": 31,
     "metadata": {},
     "output_type": "execute_result"
    }
   ],
   "source": [
    "#return standardized data back to new numerical df \"mktcusNUM2\"\n",
    "mktcusNUM2 = pd.DataFrame(mktcusNUM_normalized)\n",
    "type(mktcusNUM2)"
   ]
  },
  {
   "cell_type": "code",
   "execution_count": 32,
   "metadata": {},
   "outputs": [
    {
     "data": {
      "text/html": [
       "<div>\n",
       "<style scoped>\n",
       "    .dataframe tbody tr th:only-of-type {\n",
       "        vertical-align: middle;\n",
       "    }\n",
       "\n",
       "    .dataframe tbody tr th {\n",
       "        vertical-align: top;\n",
       "    }\n",
       "\n",
       "    .dataframe thead th {\n",
       "        text-align: right;\n",
       "    }\n",
       "</style>\n",
       "<table border=\"1\" class=\"dataframe\">\n",
       "  <thead>\n",
       "    <tr style=\"text-align: right;\">\n",
       "      <th></th>\n",
       "      <th>0</th>\n",
       "      <th>1</th>\n",
       "      <th>2</th>\n",
       "      <th>3</th>\n",
       "      <th>4</th>\n",
       "      <th>5</th>\n",
       "      <th>6</th>\n",
       "      <th>7</th>\n",
       "    </tr>\n",
       "  </thead>\n",
       "  <tbody>\n",
       "    <tr>\n",
       "      <th>0</th>\n",
       "      <td>0.049048</td>\n",
       "      <td>0.998772</td>\n",
       "      <td>0.001225</td>\n",
       "      <td>0.000568</td>\n",
       "      <td>0.000089</td>\n",
       "      <td>0.0</td>\n",
       "      <td>0.000018</td>\n",
       "      <td>0.006830</td>\n",
       "    </tr>\n",
       "    <tr>\n",
       "      <th>1</th>\n",
       "      <td>0.987006</td>\n",
       "      <td>0.000000</td>\n",
       "      <td>0.013293</td>\n",
       "      <td>0.001838</td>\n",
       "      <td>0.005939</td>\n",
       "      <td>0.0</td>\n",
       "      <td>0.001131</td>\n",
       "      <td>0.160005</td>\n",
       "    </tr>\n",
       "    <tr>\n",
       "      <th>2</th>\n",
       "      <td>0.255478</td>\n",
       "      <td>0.966747</td>\n",
       "      <td>0.002141</td>\n",
       "      <td>0.000357</td>\n",
       "      <td>0.000753</td>\n",
       "      <td>0.0</td>\n",
       "      <td>0.000040</td>\n",
       "      <td>0.011230</td>\n",
       "    </tr>\n",
       "    <tr>\n",
       "      <th>3</th>\n",
       "      <td>0.997473</td>\n",
       "      <td>0.000000</td>\n",
       "      <td>0.013829</td>\n",
       "      <td>0.002348</td>\n",
       "      <td>0.008480</td>\n",
       "      <td>0.0</td>\n",
       "      <td>0.000913</td>\n",
       "      <td>0.069128</td>\n",
       "    </tr>\n",
       "    <tr>\n",
       "      <th>4</th>\n",
       "      <td>0.064055</td>\n",
       "      <td>0.997940</td>\n",
       "      <td>0.001662</td>\n",
       "      <td>0.000273</td>\n",
       "      <td>0.001002</td>\n",
       "      <td>0.0</td>\n",
       "      <td>0.000023</td>\n",
       "      <td>0.003145</td>\n",
       "    </tr>\n",
       "  </tbody>\n",
       "</table>\n",
       "</div>"
      ],
      "text/plain": [
       "          0         1         2         3         4    5         6         7\n",
       "0  0.049048  0.998772  0.001225  0.000568  0.000089  0.0  0.000018  0.006830\n",
       "1  0.987006  0.000000  0.013293  0.001838  0.005939  0.0  0.001131  0.160005\n",
       "2  0.255478  0.966747  0.002141  0.000357  0.000753  0.0  0.000040  0.011230\n",
       "3  0.997473  0.000000  0.013829  0.002348  0.008480  0.0  0.000913  0.069128\n",
       "4  0.064055  0.997940  0.001662  0.000273  0.001002  0.0  0.000023  0.003145"
      ]
     },
     "execution_count": 32,
     "metadata": {},
     "output_type": "execute_result"
    }
   ],
   "source": [
    "mktcusNUM2.head()"
   ]
  },
  {
   "cell_type": "code",
   "execution_count": 34,
   "metadata": {},
   "outputs": [
    {
     "data": {
      "text/html": [
       "<div>\n",
       "<style scoped>\n",
       "    .dataframe tbody tr th:only-of-type {\n",
       "        vertical-align: middle;\n",
       "    }\n",
       "\n",
       "    .dataframe tbody tr th {\n",
       "        vertical-align: top;\n",
       "    }\n",
       "\n",
       "    .dataframe thead th {\n",
       "        text-align: right;\n",
       "    }\n",
       "</style>\n",
       "<table border=\"1\" class=\"dataframe\">\n",
       "  <thead>\n",
       "    <tr style=\"text-align: right;\">\n",
       "      <th></th>\n",
       "      <th>customerlifetimevalue</th>\n",
       "      <th>income</th>\n",
       "      <th>monthlypremiumauto</th>\n",
       "      <th>monthsincelastclaim</th>\n",
       "      <th>monthssincepolicyinception</th>\n",
       "      <th>numberofopencomplaints</th>\n",
       "      <th>numberofpolicies</th>\n",
       "      <th>totalclaimamount</th>\n",
       "    </tr>\n",
       "  </thead>\n",
       "  <tbody>\n",
       "    <tr>\n",
       "      <th>0</th>\n",
       "      <td>0.049048</td>\n",
       "      <td>0.998772</td>\n",
       "      <td>0.001225</td>\n",
       "      <td>0.000568</td>\n",
       "      <td>0.000089</td>\n",
       "      <td>0.0</td>\n",
       "      <td>0.000018</td>\n",
       "      <td>0.006830</td>\n",
       "    </tr>\n",
       "    <tr>\n",
       "      <th>1</th>\n",
       "      <td>0.987006</td>\n",
       "      <td>0.000000</td>\n",
       "      <td>0.013293</td>\n",
       "      <td>0.001838</td>\n",
       "      <td>0.005939</td>\n",
       "      <td>0.0</td>\n",
       "      <td>0.001131</td>\n",
       "      <td>0.160005</td>\n",
       "    </tr>\n",
       "    <tr>\n",
       "      <th>2</th>\n",
       "      <td>0.255478</td>\n",
       "      <td>0.966747</td>\n",
       "      <td>0.002141</td>\n",
       "      <td>0.000357</td>\n",
       "      <td>0.000753</td>\n",
       "      <td>0.0</td>\n",
       "      <td>0.000040</td>\n",
       "      <td>0.011230</td>\n",
       "    </tr>\n",
       "    <tr>\n",
       "      <th>3</th>\n",
       "      <td>0.997473</td>\n",
       "      <td>0.000000</td>\n",
       "      <td>0.013829</td>\n",
       "      <td>0.002348</td>\n",
       "      <td>0.008480</td>\n",
       "      <td>0.0</td>\n",
       "      <td>0.000913</td>\n",
       "      <td>0.069128</td>\n",
       "    </tr>\n",
       "    <tr>\n",
       "      <th>4</th>\n",
       "      <td>0.064055</td>\n",
       "      <td>0.997940</td>\n",
       "      <td>0.001662</td>\n",
       "      <td>0.000273</td>\n",
       "      <td>0.001002</td>\n",
       "      <td>0.0</td>\n",
       "      <td>0.000023</td>\n",
       "      <td>0.003145</td>\n",
       "    </tr>\n",
       "  </tbody>\n",
       "</table>\n",
       "</div>"
      ],
      "text/plain": [
       "   customerlifetimevalue    income  monthlypremiumauto  monthsincelastclaim  \\\n",
       "0               0.049048  0.998772            0.001225             0.000568   \n",
       "1               0.987006  0.000000            0.013293             0.001838   \n",
       "2               0.255478  0.966747            0.002141             0.000357   \n",
       "3               0.997473  0.000000            0.013829             0.002348   \n",
       "4               0.064055  0.997940            0.001662             0.000273   \n",
       "\n",
       "   monthssincepolicyinception  numberofopencomplaints  numberofpolicies  \\\n",
       "0                    0.000089                     0.0          0.000018   \n",
       "1                    0.005939                     0.0          0.001131   \n",
       "2                    0.000753                     0.0          0.000040   \n",
       "3                    0.008480                     0.0          0.000913   \n",
       "4                    0.001002                     0.0          0.000023   \n",
       "\n",
       "   totalclaimamount  \n",
       "0          0.006830  \n",
       "1          0.160005  \n",
       "2          0.011230  \n",
       "3          0.069128  \n",
       "4          0.003145  "
      ]
     },
     "execution_count": 34,
     "metadata": {},
     "output_type": "execute_result"
    }
   ],
   "source": [
    "#Renaming columns\n",
    "mktcusNUM2.rename(columns = {0:'customerlifetimevalue',1:'income',2:'monthlypremiumauto',3:'monthsincelastclaim',4:'monthssincepolicyinception',5:'numberofopencomplaints',6:'numberofpolicies',7:'totalclaimamount'}, inplace = True)\n",
    "\n",
    "mktcusNUM2.head()"
   ]
  },
  {
   "cell_type": "code",
   "execution_count": 36,
   "metadata": {},
   "outputs": [],
   "source": [
    "# Import spicy stats for skew and kurtosis\n",
    "\n",
    "from scipy.stats import skew\n",
    "from scipy.stats import kurtosis"
   ]
  },
  {
   "cell_type": "code",
   "execution_count": 37,
   "metadata": {},
   "outputs": [
    {
     "name": "stdout",
     "output_type": "stream",
     "text": [
      "column >> customerlifetimevalue\n",
      "skew 0.7885993815617972\n",
      "kurtosis -1.1351367079947052\n"
     ]
    },
    {
     "data": {
      "image/png": "[encoded data removed]",
      "text/plain": [
       "<Figure size 432x288 with 1 Axes>"
      ]
     },
     "metadata": {
      "needs_background": "light"
     },
     "output_type": "display_data"
    },
    {
     "name": "stdout",
     "output_type": "stream",
     "text": [
      "column >> income\n",
      "skew -1.0742631869619956\n",
      "kurtosis -0.7914955741846179\n"
     ]
    },
    {
     "data": {
      "image/png": "[encoded data removed]",
      "text/plain": [
       "<Figure size 432x288 with 1 Axes>"
      ]
     },
     "metadata": {
      "needs_background": "light"
     },
     "output_type": "display_data"
    },
    {
     "name": "stdout",
     "output_type": "stream",
     "text": [
      "column >> monthlypremiumauto\n",
      "skew 1.9222347655743866\n",
      "kurtosis 2.63007068596158\n"
     ]
    },
    {
     "data": {
      "image/png": "[encoded data removed]",
      "text/plain": [
       "<Figure size 432x288 with 1 Axes>"
      ]
     },
     "metadata": {
      "needs_background": "light"
     },
     "output_type": "display_data"
    },
    {
     "name": "stdout",
     "output_type": "stream",
     "text": [
      "column >> monthsincelastclaim\n",
      "skew 3.4888621762409677\n",
      "kurtosis 14.193167086734917\n"
     ]
    },
    {
     "data": {
      "image/png": "[encoded data removed]",
      "text/plain": [
       "<Figure size 432x288 with 1 Axes>"
      ]
     },
     "metadata": {
      "needs_background": "light"
     },
     "output_type": "display_data"
    },
    {
     "name": "stdout",
     "output_type": "stream",
     "text": [
      "column >> monthssincepolicyinception\n",
      "skew 3.2913749242743853\n",
      "kurtosis 12.460491702882656\n"
     ]
    },
    {
     "data": {
      "image/png": "[encoded data removed]",
      "text/plain": [
       "<Figure size 432x288 with 1 Axes>"
      ]
     },
     "metadata": {
      "needs_background": "light"
     },
     "output_type": "display_data"
    },
    {
     "name": "stdout",
     "output_type": "stream",
     "text": [
      "column >> numberofopencomplaints\n",
      "skew 8.482505826777295\n",
      "kurtosis 89.61144893577394\n"
     ]
    },
    {
     "name": "stderr",
     "output_type": "stream",
     "text": [
      "C:\\Users\\sogun\\anaconda3\\lib\\site-packages\\seaborn\\distributions.py:369: UserWarning: Default bandwidth for data is 0; skipping density estimation.\n",
      "  warnings.warn(msg, UserWarning)\n"
     ]
    },
    {
     "data": {
      "image/png": "[encoded data removed]",
      "text/plain": [
       "<Figure size 432x288 with 1 Axes>"
      ]
     },
     "metadata": {
      "needs_background": "light"
     },
     "output_type": "display_data"
    },
    {
     "name": "stdout",
     "output_type": "stream",
     "text": [
      "column >> numberofpolicies\n",
      "skew 3.189308868533805\n",
      "kurtosis 11.811819047447571\n"
     ]
    },
    {
     "data": {
      "image/png": "[encoded data removed]",
      "text/plain": [
       "<Figure size 432x288 with 1 Axes>"
      ]
     },
     "metadata": {
      "needs_background": "light"
     },
     "output_type": "display_data"
    },
    {
     "name": "stdout",
     "output_type": "stream",
     "text": [
      "column >> totalclaimamount\n",
      "skew 2.459356884824001\n",
      "kurtosis 6.273432048497764\n"
     ]
    },
    {
     "data": {
      "image/png": "[encoded data removed]",
      "text/plain": [
       "<Figure size 432x288 with 1 Axes>"
      ]
     },
     "metadata": {
      "needs_background": "light"
     },
     "output_type": "display_data"
    }
   ],
   "source": [
    "# plotting normalised data \n",
    "\n",
    "cols = mktcusNUM2.columns\n",
    "\n",
    "for i in range(len(cols)):\n",
    "    print('column >>', cols[i])\n",
    "    print('skew {}'.format(skew(mktcusNUM2[cols[i]])))\n",
    "    print('kurtosis {}'.format(kurtosis(mktcusNUM2[cols[i]])))\n",
    "    sns.distplot(mktcusNUM2[cols[i]])\n",
    "    plt.show()"
   ]
  },
  {
   "cell_type": "code",
   "execution_count": 39,
   "metadata": {},
   "outputs": [
    {
     "data": {
      "text/html": [
       "<div>\n",
       "<style scoped>\n",
       "    .dataframe tbody tr th:only-of-type {\n",
       "        vertical-align: middle;\n",
       "    }\n",
       "\n",
       "    .dataframe tbody tr th {\n",
       "        vertical-align: top;\n",
       "    }\n",
       "\n",
       "    .dataframe thead th {\n",
       "        text-align: right;\n",
       "    }\n",
       "</style>\n",
       "<table border=\"1\" class=\"dataframe\">\n",
       "  <thead>\n",
       "    <tr style=\"text-align: right;\">\n",
       "      <th></th>\n",
       "      <th>customerlifetimevalue</th>\n",
       "      <th>income</th>\n",
       "      <th>monthlypremiumauto</th>\n",
       "      <th>monthsincelastclaim</th>\n",
       "      <th>monthssincepolicyinception</th>\n",
       "      <th>numberofopencomplaints</th>\n",
       "      <th>numberofpolicies</th>\n",
       "      <th>totalclaimamount</th>\n",
       "    </tr>\n",
       "  </thead>\n",
       "  <tbody>\n",
       "    <tr>\n",
       "      <th>count</th>\n",
       "      <td>9134.000000</td>\n",
       "      <td>9134.000000</td>\n",
       "      <td>9134.000000</td>\n",
       "      <td>9134.000000</td>\n",
       "      <td>9134.000000</td>\n",
       "      <td>9134.000000</td>\n",
       "      <td>9134.000000</td>\n",
       "      <td>9134.000000</td>\n",
       "    </tr>\n",
       "    <tr>\n",
       "      <th>mean</th>\n",
       "      <td>0.393290</td>\n",
       "      <td>0.720504</td>\n",
       "      <td>0.006069</td>\n",
       "      <td>0.001063</td>\n",
       "      <td>0.003359</td>\n",
       "      <td>0.000030</td>\n",
       "      <td>0.000184</td>\n",
       "      <td>0.035091</td>\n",
       "    </tr>\n",
       "    <tr>\n",
       "      <th>std</th>\n",
       "      <td>0.376088</td>\n",
       "      <td>0.424612</td>\n",
       "      <td>0.007836</td>\n",
       "      <td>0.001915</td>\n",
       "      <td>0.005776</td>\n",
       "      <td>0.000140</td>\n",
       "      <td>0.000290</td>\n",
       "      <td>0.055815</td>\n",
       "    </tr>\n",
       "    <tr>\n",
       "      <th>min</th>\n",
       "      <td>0.024837</td>\n",
       "      <td>0.000000</td>\n",
       "      <td>0.000610</td>\n",
       "      <td>0.000000</td>\n",
       "      <td>0.000000</td>\n",
       "      <td>0.000000</td>\n",
       "      <td>0.000010</td>\n",
       "      <td>0.000001</td>\n",
       "    </tr>\n",
       "    <tr>\n",
       "      <th>25%</th>\n",
       "      <td>0.095641</td>\n",
       "      <td>0.000000</td>\n",
       "      <td>0.001398</td>\n",
       "      <td>0.000159</td>\n",
       "      <td>0.000591</td>\n",
       "      <td>0.000000</td>\n",
       "      <td>0.000031</td>\n",
       "      <td>0.004478</td>\n",
       "    </tr>\n",
       "    <tr>\n",
       "      <th>50%</th>\n",
       "      <td>0.197382</td>\n",
       "      <td>0.980231</td>\n",
       "      <td>0.002516</td>\n",
       "      <td>0.000382</td>\n",
       "      <td>0.001244</td>\n",
       "      <td>0.000000</td>\n",
       "      <td>0.000069</td>\n",
       "      <td>0.011007</td>\n",
       "    </tr>\n",
       "    <tr>\n",
       "      <th>75%</th>\n",
       "      <td>0.950987</td>\n",
       "      <td>0.995350</td>\n",
       "      <td>0.006256</td>\n",
       "      <td>0.000910</td>\n",
       "      <td>0.002898</td>\n",
       "      <td>0.000000</td>\n",
       "      <td>0.000219</td>\n",
       "      <td>0.032569</td>\n",
       "    </tr>\n",
       "    <tr>\n",
       "      <th>max</th>\n",
       "      <td>0.999975</td>\n",
       "      <td>0.999687</td>\n",
       "      <td>0.037633</td>\n",
       "      <td>0.015696</td>\n",
       "      <td>0.047142</td>\n",
       "      <td>0.002468</td>\n",
       "      <td>0.002167</td>\n",
       "      <td>0.371107</td>\n",
       "    </tr>\n",
       "  </tbody>\n",
       "</table>\n",
       "</div>"
      ],
      "text/plain": [
       "       customerlifetimevalue       income  monthlypremiumauto  \\\n",
       "count            9134.000000  9134.000000         9134.000000   \n",
       "mean                0.393290     0.720504            0.006069   \n",
       "std                 0.376088     0.424612            0.007836   \n",
       "min                 0.024837     0.000000            0.000610   \n",
       "25%                 0.095641     0.000000            0.001398   \n",
       "50%                 0.197382     0.980231            0.002516   \n",
       "75%                 0.950987     0.995350            0.006256   \n",
       "max                 0.999975     0.999687            0.037633   \n",
       "\n",
       "       monthsincelastclaim  monthssincepolicyinception  \\\n",
       "count          9134.000000                 9134.000000   \n",
       "mean              0.001063                    0.003359   \n",
       "std               0.001915                    0.005776   \n",
       "min               0.000000                    0.000000   \n",
       "25%               0.000159                    0.000591   \n",
       "50%               0.000382                    0.001244   \n",
       "75%               0.000910                    0.002898   \n",
       "max               0.015696                    0.047142   \n",
       "\n",
       "       numberofopencomplaints  numberofpolicies  totalclaimamount  \n",
       "count             9134.000000       9134.000000       9134.000000  \n",
       "mean                 0.000030          0.000184          0.035091  \n",
       "std                  0.000140          0.000290          0.055815  \n",
       "min                  0.000000          0.000010          0.000001  \n",
       "25%                  0.000000          0.000031          0.004478  \n",
       "50%                  0.000000          0.000069          0.011007  \n",
       "75%                  0.000000          0.000219          0.032569  \n",
       "max                  0.002468          0.002167          0.371107  "
      ]
     },
     "execution_count": 39,
     "metadata": {},
     "output_type": "execute_result"
    }
   ],
   "source": [
    "mktcusNUM2.describe()"
   ]
  },
  {
   "cell_type": "code",
   "execution_count": 40,
   "metadata": {},
   "outputs": [
    {
     "data": {
      "text/html": [
       "<div>\n",
       "<style scoped>\n",
       "    .dataframe tbody tr th:only-of-type {\n",
       "        vertical-align: middle;\n",
       "    }\n",
       "\n",
       "    .dataframe tbody tr th {\n",
       "        vertical-align: top;\n",
       "    }\n",
       "\n",
       "    .dataframe thead th {\n",
       "        text-align: right;\n",
       "    }\n",
       "</style>\n",
       "<table border=\"1\" class=\"dataframe\">\n",
       "  <thead>\n",
       "    <tr style=\"text-align: right;\">\n",
       "      <th></th>\n",
       "      <th>customer</th>\n",
       "      <th>state</th>\n",
       "      <th>response</th>\n",
       "      <th>coverage</th>\n",
       "      <th>education</th>\n",
       "      <th>effectivetodate</th>\n",
       "      <th>employmentstatus</th>\n",
       "      <th>gender</th>\n",
       "      <th>locationcode</th>\n",
       "      <th>maritalstatus</th>\n",
       "      <th>policytype</th>\n",
       "      <th>policy</th>\n",
       "      <th>renewoffertype</th>\n",
       "      <th>saleschannel</th>\n",
       "      <th>vehicleclass</th>\n",
       "      <th>vehiclesize</th>\n",
       "    </tr>\n",
       "  </thead>\n",
       "  <tbody>\n",
       "    <tr>\n",
       "      <th>0</th>\n",
       "      <td>BU79786</td>\n",
       "      <td>Washington</td>\n",
       "      <td>No</td>\n",
       "      <td>Basic</td>\n",
       "      <td>Bachelor</td>\n",
       "      <td>2/24/11</td>\n",
       "      <td>Employed</td>\n",
       "      <td>F</td>\n",
       "      <td>Suburban</td>\n",
       "      <td>Married</td>\n",
       "      <td>Corporate Auto</td>\n",
       "      <td>Corporate L3</td>\n",
       "      <td>Offer1</td>\n",
       "      <td>Agent</td>\n",
       "      <td>Two-Door Car</td>\n",
       "      <td>Medsize</td>\n",
       "    </tr>\n",
       "    <tr>\n",
       "      <th>1</th>\n",
       "      <td>QZ44356</td>\n",
       "      <td>Arizona</td>\n",
       "      <td>No</td>\n",
       "      <td>Extended</td>\n",
       "      <td>Bachelor</td>\n",
       "      <td>1/31/11</td>\n",
       "      <td>Unemployed</td>\n",
       "      <td>F</td>\n",
       "      <td>Suburban</td>\n",
       "      <td>Single</td>\n",
       "      <td>Personal Auto</td>\n",
       "      <td>Personal L3</td>\n",
       "      <td>Offer3</td>\n",
       "      <td>Agent</td>\n",
       "      <td>Four-Door Car</td>\n",
       "      <td>Medsize</td>\n",
       "    </tr>\n",
       "    <tr>\n",
       "      <th>2</th>\n",
       "      <td>AI49188</td>\n",
       "      <td>Nevada</td>\n",
       "      <td>No</td>\n",
       "      <td>Premium</td>\n",
       "      <td>Bachelor</td>\n",
       "      <td>2/19/11</td>\n",
       "      <td>Employed</td>\n",
       "      <td>F</td>\n",
       "      <td>Suburban</td>\n",
       "      <td>Married</td>\n",
       "      <td>Personal Auto</td>\n",
       "      <td>Personal L3</td>\n",
       "      <td>Offer1</td>\n",
       "      <td>Agent</td>\n",
       "      <td>Two-Door Car</td>\n",
       "      <td>Medsize</td>\n",
       "    </tr>\n",
       "    <tr>\n",
       "      <th>3</th>\n",
       "      <td>WW63253</td>\n",
       "      <td>California</td>\n",
       "      <td>No</td>\n",
       "      <td>Basic</td>\n",
       "      <td>Bachelor</td>\n",
       "      <td>1/20/11</td>\n",
       "      <td>Unemployed</td>\n",
       "      <td>M</td>\n",
       "      <td>Suburban</td>\n",
       "      <td>Married</td>\n",
       "      <td>Corporate Auto</td>\n",
       "      <td>Corporate L2</td>\n",
       "      <td>Offer1</td>\n",
       "      <td>Call Center</td>\n",
       "      <td>SUV</td>\n",
       "      <td>Medsize</td>\n",
       "    </tr>\n",
       "    <tr>\n",
       "      <th>4</th>\n",
       "      <td>HB64268</td>\n",
       "      <td>Washington</td>\n",
       "      <td>No</td>\n",
       "      <td>Basic</td>\n",
       "      <td>Bachelor</td>\n",
       "      <td>2/3/11</td>\n",
       "      <td>Employed</td>\n",
       "      <td>M</td>\n",
       "      <td>Rural</td>\n",
       "      <td>Single</td>\n",
       "      <td>Personal Auto</td>\n",
       "      <td>Personal L1</td>\n",
       "      <td>Offer1</td>\n",
       "      <td>Agent</td>\n",
       "      <td>Four-Door Car</td>\n",
       "      <td>Medsize</td>\n",
       "    </tr>\n",
       "  </tbody>\n",
       "</table>\n",
       "</div>"
      ],
      "text/plain": [
       "  customer       state response  coverage education effectivetodate  \\\n",
       "0  BU79786  Washington       No     Basic  Bachelor         2/24/11   \n",
       "1  QZ44356     Arizona       No  Extended  Bachelor         1/31/11   \n",
       "2  AI49188      Nevada       No   Premium  Bachelor         2/19/11   \n",
       "3  WW63253  California       No     Basic  Bachelor         1/20/11   \n",
       "4  HB64268  Washington       No     Basic  Bachelor          2/3/11   \n",
       "\n",
       "  employmentstatus gender locationcode maritalstatus      policytype  \\\n",
       "0         Employed      F     Suburban       Married  Corporate Auto   \n",
       "1       Unemployed      F     Suburban        Single   Personal Auto   \n",
       "2         Employed      F     Suburban       Married   Personal Auto   \n",
       "3       Unemployed      M     Suburban       Married  Corporate Auto   \n",
       "4         Employed      M        Rural        Single   Personal Auto   \n",
       "\n",
       "         policy renewoffertype saleschannel   vehicleclass vehiclesize  \n",
       "0  Corporate L3         Offer1        Agent   Two-Door Car     Medsize  \n",
       "1   Personal L3         Offer3        Agent  Four-Door Car     Medsize  \n",
       "2   Personal L3         Offer1        Agent   Two-Door Car     Medsize  \n",
       "3  Corporate L2         Offer1  Call Center            SUV     Medsize  \n",
       "4   Personal L1         Offer1        Agent  Four-Door Car     Medsize  "
      ]
     },
     "execution_count": 40,
     "metadata": {},
     "output_type": "execute_result"
    }
   ],
   "source": [
    "#3/ Encoding Categorical data\n",
    "mktcusCAT.head()"
   ]
  },
  {
   "cell_type": "code",
   "execution_count": 42,
   "metadata": {
    "scrolled": true
   },
   "outputs": [
    {
     "name": "stdout",
     "output_type": "stream",
     "text": [
      "['BU79786' 'QZ44356' 'AI49188' ... 'TD14365' 'UP19263' 'Y167826']\n",
      "['Washington' 'Arizona' 'Nevada' 'California' 'Oregon']\n",
      "['No' 'Yes']\n",
      "['Basic' 'Extended' 'Premium']\n",
      "['Bachelor' 'College' 'Master' 'High School or Below' 'Doctor']\n",
      "['2/24/11' '1/31/11' '2/19/11' '1/20/11' '2/3/11' '1/25/11' '1/18/11'\n",
      " '1/26/11' '2/17/11' '2/21/11' '1/6/11' '2/6/11' '1/10/11' '1/17/11'\n",
      " '1/5/11' '2/27/11' '1/14/11' '1/21/11' '2/5/11' '1/29/11' '2/28/11'\n",
      " '2/12/11' '2/2/11' '2/7/11' '1/22/11' '2/13/11' '1/15/11' '1/8/11'\n",
      " '1/11/11' '1/28/11' '2/8/11' '2/23/11' '1/2/11' '2/16/11' '1/27/11'\n",
      " '1/23/11' '1/9/11' '2/11/11' '2/4/11' '2/1/11' '2/15/11' '2/26/11'\n",
      " '1/16/11' '1/1/11' '2/10/11' '1/24/11' '2/25/11' '1/12/11' '2/9/11'\n",
      " '1/19/11' '1/4/11' '2/14/11' '2/20/11' '2/18/11' '1/3/11' '1/13/11'\n",
      " '1/30/11' '2/22/11' '1/7/11']\n",
      "['Employed' 'Unemployed' 'Medical Leave' 'Disabled' 'Retired']\n",
      "['F' 'M']\n",
      "['Suburban' 'Rural' 'Urban']\n",
      "['Married' 'Single' 'Divorced']\n",
      "['Corporate Auto' 'Personal Auto' 'Special Auto']\n",
      "['Corporate L3' 'Personal L3' 'Corporate L2' 'Personal L1' 'Special L2'\n",
      " 'Corporate L1' 'Personal L2' 'Special L1' 'Special L3']\n",
      "['Offer1' 'Offer3' 'Offer2' 'Offer4']\n",
      "['Agent' 'Call Center' 'Web' 'Branch']\n",
      "['Two-Door Car' 'Four-Door Car' 'SUV' 'Luxury SUV' 'Sports Car'\n",
      " 'Luxury Car']\n",
      "['Medsize' 'Small' 'Large']\n"
     ]
    }
   ],
   "source": [
    "# Unique values\n",
    "column_cat = mktcusCAT.columns\n",
    "\n",
    "for i in range(0,len(column_cat)):\n",
    "    print(mktcusCAT[column_cat[i]].unique())"
   ]
  },
  {
   "cell_type": "code",
   "execution_count": 44,
   "metadata": {},
   "outputs": [],
   "source": [
    "#Removing unneccesary columns\n",
    "mktcusCAT = mktcusCAT.drop(['customer','effectivetodate'], axis = True )"
   ]
  },
  {
   "cell_type": "code",
   "execution_count": 45,
   "metadata": {},
   "outputs": [
    {
     "name": "stdout",
     "output_type": "stream",
     "text": [
      "['Washington' 'Arizona' 'Nevada' 'California' 'Oregon']\n",
      "['No' 'Yes']\n",
      "['Basic' 'Extended' 'Premium']\n",
      "['Bachelor' 'College' 'Master' 'High School or Below' 'Doctor']\n",
      "['Employed' 'Unemployed' 'Medical Leave' 'Disabled' 'Retired']\n",
      "['F' 'M']\n",
      "['Suburban' 'Rural' 'Urban']\n",
      "['Married' 'Single' 'Divorced']\n",
      "['Corporate Auto' 'Personal Auto' 'Special Auto']\n",
      "['Corporate L3' 'Personal L3' 'Corporate L2' 'Personal L1' 'Special L2'\n",
      " 'Corporate L1' 'Personal L2' 'Special L1' 'Special L3']\n",
      "['Offer1' 'Offer3' 'Offer2' 'Offer4']\n",
      "['Agent' 'Call Center' 'Web' 'Branch']\n",
      "['Two-Door Car' 'Four-Door Car' 'SUV' 'Luxury SUV' 'Sports Car'\n",
      " 'Luxury Car']\n",
      "['Medsize' 'Small' 'Large']\n"
     ]
    }
   ],
   "source": [
    "# Unique Values\n",
    "column_cat = mktcusCAT.columns\n",
    "\n",
    "for i in range(0,len(column_cat)):\n",
    "    print(mktcusCAT[column_cat[i]].unique())"
   ]
  },
  {
   "cell_type": "code",
   "execution_count": 52,
   "metadata": {},
   "outputs": [
    {
     "data": {
      "text/html": [
       "<div>\n",
       "<style scoped>\n",
       "    .dataframe tbody tr th:only-of-type {\n",
       "        vertical-align: middle;\n",
       "    }\n",
       "\n",
       "    .dataframe tbody tr th {\n",
       "        vertical-align: top;\n",
       "    }\n",
       "\n",
       "    .dataframe thead th {\n",
       "        text-align: right;\n",
       "    }\n",
       "</style>\n",
       "<table border=\"1\" class=\"dataframe\">\n",
       "  <thead>\n",
       "    <tr style=\"text-align: right;\">\n",
       "      <th></th>\n",
       "      <th>customerlifetimevalue</th>\n",
       "      <th>income</th>\n",
       "      <th>monthlypremiumauto</th>\n",
       "      <th>monthsincelastclaim</th>\n",
       "      <th>monthssincepolicyinception</th>\n",
       "      <th>numberofopencomplaints</th>\n",
       "      <th>numberofpolicies</th>\n",
       "      <th>totalclaimamount</th>\n",
       "      <th>state</th>\n",
       "      <th>response</th>\n",
       "      <th>...</th>\n",
       "      <th>employmentstatus</th>\n",
       "      <th>gender</th>\n",
       "      <th>locationcode</th>\n",
       "      <th>maritalstatus</th>\n",
       "      <th>policytype</th>\n",
       "      <th>policy</th>\n",
       "      <th>renewoffertype</th>\n",
       "      <th>saleschannel</th>\n",
       "      <th>vehicleclass</th>\n",
       "      <th>vehiclesize</th>\n",
       "    </tr>\n",
       "  </thead>\n",
       "  <tbody>\n",
       "    <tr>\n",
       "      <th>0</th>\n",
       "      <td>0.049048</td>\n",
       "      <td>0.998772</td>\n",
       "      <td>0.001225</td>\n",
       "      <td>0.000568</td>\n",
       "      <td>0.000089</td>\n",
       "      <td>0.0</td>\n",
       "      <td>0.000018</td>\n",
       "      <td>0.006830</td>\n",
       "      <td>Washington</td>\n",
       "      <td>No</td>\n",
       "      <td>...</td>\n",
       "      <td>Employed</td>\n",
       "      <td>F</td>\n",
       "      <td>Suburban</td>\n",
       "      <td>Married</td>\n",
       "      <td>Corporate Auto</td>\n",
       "      <td>Corporate L3</td>\n",
       "      <td>Offer1</td>\n",
       "      <td>Agent</td>\n",
       "      <td>Two-Door Car</td>\n",
       "      <td>Medsize</td>\n",
       "    </tr>\n",
       "    <tr>\n",
       "      <th>1</th>\n",
       "      <td>0.987006</td>\n",
       "      <td>0.000000</td>\n",
       "      <td>0.013293</td>\n",
       "      <td>0.001838</td>\n",
       "      <td>0.005939</td>\n",
       "      <td>0.0</td>\n",
       "      <td>0.001131</td>\n",
       "      <td>0.160005</td>\n",
       "      <td>Arizona</td>\n",
       "      <td>No</td>\n",
       "      <td>...</td>\n",
       "      <td>Unemployed</td>\n",
       "      <td>F</td>\n",
       "      <td>Suburban</td>\n",
       "      <td>Single</td>\n",
       "      <td>Personal Auto</td>\n",
       "      <td>Personal L3</td>\n",
       "      <td>Offer3</td>\n",
       "      <td>Agent</td>\n",
       "      <td>Four-Door Car</td>\n",
       "      <td>Medsize</td>\n",
       "    </tr>\n",
       "    <tr>\n",
       "      <th>2</th>\n",
       "      <td>0.255478</td>\n",
       "      <td>0.966747</td>\n",
       "      <td>0.002141</td>\n",
       "      <td>0.000357</td>\n",
       "      <td>0.000753</td>\n",
       "      <td>0.0</td>\n",
       "      <td>0.000040</td>\n",
       "      <td>0.011230</td>\n",
       "      <td>Nevada</td>\n",
       "      <td>No</td>\n",
       "      <td>...</td>\n",
       "      <td>Employed</td>\n",
       "      <td>F</td>\n",
       "      <td>Suburban</td>\n",
       "      <td>Married</td>\n",
       "      <td>Personal Auto</td>\n",
       "      <td>Personal L3</td>\n",
       "      <td>Offer1</td>\n",
       "      <td>Agent</td>\n",
       "      <td>Two-Door Car</td>\n",
       "      <td>Medsize</td>\n",
       "    </tr>\n",
       "    <tr>\n",
       "      <th>3</th>\n",
       "      <td>0.997473</td>\n",
       "      <td>0.000000</td>\n",
       "      <td>0.013829</td>\n",
       "      <td>0.002348</td>\n",
       "      <td>0.008480</td>\n",
       "      <td>0.0</td>\n",
       "      <td>0.000913</td>\n",
       "      <td>0.069128</td>\n",
       "      <td>California</td>\n",
       "      <td>No</td>\n",
       "      <td>...</td>\n",
       "      <td>Unemployed</td>\n",
       "      <td>M</td>\n",
       "      <td>Suburban</td>\n",
       "      <td>Married</td>\n",
       "      <td>Corporate Auto</td>\n",
       "      <td>Corporate L2</td>\n",
       "      <td>Offer1</td>\n",
       "      <td>Call Center</td>\n",
       "      <td>SUV</td>\n",
       "      <td>Medsize</td>\n",
       "    </tr>\n",
       "    <tr>\n",
       "      <th>4</th>\n",
       "      <td>0.064055</td>\n",
       "      <td>0.997940</td>\n",
       "      <td>0.001662</td>\n",
       "      <td>0.000273</td>\n",
       "      <td>0.001002</td>\n",
       "      <td>0.0</td>\n",
       "      <td>0.000023</td>\n",
       "      <td>0.003145</td>\n",
       "      <td>Washington</td>\n",
       "      <td>No</td>\n",
       "      <td>...</td>\n",
       "      <td>Employed</td>\n",
       "      <td>M</td>\n",
       "      <td>Rural</td>\n",
       "      <td>Single</td>\n",
       "      <td>Personal Auto</td>\n",
       "      <td>Personal L1</td>\n",
       "      <td>Offer1</td>\n",
       "      <td>Agent</td>\n",
       "      <td>Four-Door Car</td>\n",
       "      <td>Medsize</td>\n",
       "    </tr>\n",
       "  </tbody>\n",
       "</table>\n",
       "<p>5 rows × 22 columns</p>\n",
       "</div>"
      ],
      "text/plain": [
       "   customerlifetimevalue    income  monthlypremiumauto  monthsincelastclaim  \\\n",
       "0               0.049048  0.998772            0.001225             0.000568   \n",
       "1               0.987006  0.000000            0.013293             0.001838   \n",
       "2               0.255478  0.966747            0.002141             0.000357   \n",
       "3               0.997473  0.000000            0.013829             0.002348   \n",
       "4               0.064055  0.997940            0.001662             0.000273   \n",
       "\n",
       "   monthssincepolicyinception  numberofopencomplaints  numberofpolicies  \\\n",
       "0                    0.000089                     0.0          0.000018   \n",
       "1                    0.005939                     0.0          0.001131   \n",
       "2                    0.000753                     0.0          0.000040   \n",
       "3                    0.008480                     0.0          0.000913   \n",
       "4                    0.001002                     0.0          0.000023   \n",
       "\n",
       "   totalclaimamount       state response  ... employmentstatus gender  \\\n",
       "0          0.006830  Washington       No  ...         Employed      F   \n",
       "1          0.160005     Arizona       No  ...       Unemployed      F   \n",
       "2          0.011230      Nevada       No  ...         Employed      F   \n",
       "3          0.069128  California       No  ...       Unemployed      M   \n",
       "4          0.003145  Washington       No  ...         Employed      M   \n",
       "\n",
       "  locationcode maritalstatus      policytype        policy renewoffertype  \\\n",
       "0     Suburban       Married  Corporate Auto  Corporate L3         Offer1   \n",
       "1     Suburban        Single   Personal Auto   Personal L3         Offer3   \n",
       "2     Suburban       Married   Personal Auto   Personal L3         Offer1   \n",
       "3     Suburban       Married  Corporate Auto  Corporate L2         Offer1   \n",
       "4        Rural        Single   Personal Auto   Personal L1         Offer1   \n",
       "\n",
       "  saleschannel   vehicleclass vehiclesize  \n",
       "0        Agent   Two-Door Car     Medsize  \n",
       "1        Agent  Four-Door Car     Medsize  \n",
       "2        Agent   Two-Door Car     Medsize  \n",
       "3  Call Center            SUV     Medsize  \n",
       "4        Agent  Four-Door Car     Medsize  \n",
       "\n",
       "[5 rows x 22 columns]"
      ]
     },
     "execution_count": 52,
     "metadata": {},
     "output_type": "execute_result"
    }
   ],
   "source": [
    "# Concatenate both 'mktcusCAT' and 'mktcusNUM2' to new df 'mktcus2'\n",
    "\n",
    "mktcus2 = pd.concat([mktcusNUM2,mktcusCAT], axis = 1)\n",
    "mktcus2.head()"
   ]
  },
  {
   "cell_type": "code",
   "execution_count": 54,
   "metadata": {},
   "outputs": [
    {
     "data": {
      "text/html": [
       "<div>\n",
       "<style scoped>\n",
       "    .dataframe tbody tr th:only-of-type {\n",
       "        vertical-align: middle;\n",
       "    }\n",
       "\n",
       "    .dataframe tbody tr th {\n",
       "        vertical-align: top;\n",
       "    }\n",
       "\n",
       "    .dataframe thead th {\n",
       "        text-align: right;\n",
       "    }\n",
       "</style>\n",
       "<table border=\"1\" class=\"dataframe\">\n",
       "  <thead>\n",
       "    <tr style=\"text-align: right;\">\n",
       "      <th></th>\n",
       "      <th>customerlifetimevalue</th>\n",
       "      <th>income</th>\n",
       "      <th>monthlypremiumauto</th>\n",
       "      <th>monthsincelastclaim</th>\n",
       "      <th>monthssincepolicyinception</th>\n",
       "      <th>numberofopencomplaints</th>\n",
       "      <th>numberofpolicies</th>\n",
       "      <th>totalclaimamount</th>\n",
       "      <th>state_California</th>\n",
       "      <th>state_Nevada</th>\n",
       "      <th>...</th>\n",
       "      <th>saleschannel_Branch</th>\n",
       "      <th>saleschannel_Call Center</th>\n",
       "      <th>saleschannel_Web</th>\n",
       "      <th>vehicleclass_Luxury Car</th>\n",
       "      <th>vehicleclass_Luxury SUV</th>\n",
       "      <th>vehicleclass_SUV</th>\n",
       "      <th>vehicleclass_Sports Car</th>\n",
       "      <th>vehicleclass_Two-Door Car</th>\n",
       "      <th>vehiclesize_Medsize</th>\n",
       "      <th>vehiclesize_Small</th>\n",
       "    </tr>\n",
       "  </thead>\n",
       "  <tbody>\n",
       "    <tr>\n",
       "      <th>0</th>\n",
       "      <td>0.049048</td>\n",
       "      <td>0.998772</td>\n",
       "      <td>0.001225</td>\n",
       "      <td>0.000568</td>\n",
       "      <td>0.000089</td>\n",
       "      <td>0.0</td>\n",
       "      <td>0.000018</td>\n",
       "      <td>0.006830</td>\n",
       "      <td>0</td>\n",
       "      <td>0</td>\n",
       "      <td>...</td>\n",
       "      <td>0</td>\n",
       "      <td>0</td>\n",
       "      <td>0</td>\n",
       "      <td>0</td>\n",
       "      <td>0</td>\n",
       "      <td>0</td>\n",
       "      <td>0</td>\n",
       "      <td>1</td>\n",
       "      <td>1</td>\n",
       "      <td>0</td>\n",
       "    </tr>\n",
       "    <tr>\n",
       "      <th>1</th>\n",
       "      <td>0.987006</td>\n",
       "      <td>0.000000</td>\n",
       "      <td>0.013293</td>\n",
       "      <td>0.001838</td>\n",
       "      <td>0.005939</td>\n",
       "      <td>0.0</td>\n",
       "      <td>0.001131</td>\n",
       "      <td>0.160005</td>\n",
       "      <td>0</td>\n",
       "      <td>0</td>\n",
       "      <td>...</td>\n",
       "      <td>0</td>\n",
       "      <td>0</td>\n",
       "      <td>0</td>\n",
       "      <td>0</td>\n",
       "      <td>0</td>\n",
       "      <td>0</td>\n",
       "      <td>0</td>\n",
       "      <td>0</td>\n",
       "      <td>1</td>\n",
       "      <td>0</td>\n",
       "    </tr>\n",
       "    <tr>\n",
       "      <th>2</th>\n",
       "      <td>0.255478</td>\n",
       "      <td>0.966747</td>\n",
       "      <td>0.002141</td>\n",
       "      <td>0.000357</td>\n",
       "      <td>0.000753</td>\n",
       "      <td>0.0</td>\n",
       "      <td>0.000040</td>\n",
       "      <td>0.011230</td>\n",
       "      <td>0</td>\n",
       "      <td>1</td>\n",
       "      <td>...</td>\n",
       "      <td>0</td>\n",
       "      <td>0</td>\n",
       "      <td>0</td>\n",
       "      <td>0</td>\n",
       "      <td>0</td>\n",
       "      <td>0</td>\n",
       "      <td>0</td>\n",
       "      <td>1</td>\n",
       "      <td>1</td>\n",
       "      <td>0</td>\n",
       "    </tr>\n",
       "    <tr>\n",
       "      <th>3</th>\n",
       "      <td>0.997473</td>\n",
       "      <td>0.000000</td>\n",
       "      <td>0.013829</td>\n",
       "      <td>0.002348</td>\n",
       "      <td>0.008480</td>\n",
       "      <td>0.0</td>\n",
       "      <td>0.000913</td>\n",
       "      <td>0.069128</td>\n",
       "      <td>1</td>\n",
       "      <td>0</td>\n",
       "      <td>...</td>\n",
       "      <td>0</td>\n",
       "      <td>1</td>\n",
       "      <td>0</td>\n",
       "      <td>0</td>\n",
       "      <td>0</td>\n",
       "      <td>1</td>\n",
       "      <td>0</td>\n",
       "      <td>0</td>\n",
       "      <td>1</td>\n",
       "      <td>0</td>\n",
       "    </tr>\n",
       "    <tr>\n",
       "      <th>4</th>\n",
       "      <td>0.064055</td>\n",
       "      <td>0.997940</td>\n",
       "      <td>0.001662</td>\n",
       "      <td>0.000273</td>\n",
       "      <td>0.001002</td>\n",
       "      <td>0.0</td>\n",
       "      <td>0.000023</td>\n",
       "      <td>0.003145</td>\n",
       "      <td>0</td>\n",
       "      <td>0</td>\n",
       "      <td>...</td>\n",
       "      <td>0</td>\n",
       "      <td>0</td>\n",
       "      <td>0</td>\n",
       "      <td>0</td>\n",
       "      <td>0</td>\n",
       "      <td>0</td>\n",
       "      <td>0</td>\n",
       "      <td>0</td>\n",
       "      <td>1</td>\n",
       "      <td>0</td>\n",
       "    </tr>\n",
       "  </tbody>\n",
       "</table>\n",
       "<p>5 rows × 51 columns</p>\n",
       "</div>"
      ],
      "text/plain": [
       "   customerlifetimevalue    income  monthlypremiumauto  monthsincelastclaim  \\\n",
       "0               0.049048  0.998772            0.001225             0.000568   \n",
       "1               0.987006  0.000000            0.013293             0.001838   \n",
       "2               0.255478  0.966747            0.002141             0.000357   \n",
       "3               0.997473  0.000000            0.013829             0.002348   \n",
       "4               0.064055  0.997940            0.001662             0.000273   \n",
       "\n",
       "   monthssincepolicyinception  numberofopencomplaints  numberofpolicies  \\\n",
       "0                    0.000089                     0.0          0.000018   \n",
       "1                    0.005939                     0.0          0.001131   \n",
       "2                    0.000753                     0.0          0.000040   \n",
       "3                    0.008480                     0.0          0.000913   \n",
       "4                    0.001002                     0.0          0.000023   \n",
       "\n",
       "   totalclaimamount  state_California  state_Nevada  ...  saleschannel_Branch  \\\n",
       "0          0.006830                 0             0  ...                    0   \n",
       "1          0.160005                 0             0  ...                    0   \n",
       "2          0.011230                 0             1  ...                    0   \n",
       "3          0.069128                 1             0  ...                    0   \n",
       "4          0.003145                 0             0  ...                    0   \n",
       "\n",
       "   saleschannel_Call Center  saleschannel_Web  vehicleclass_Luxury Car  \\\n",
       "0                         0                 0                        0   \n",
       "1                         0                 0                        0   \n",
       "2                         0                 0                        0   \n",
       "3                         1                 0                        0   \n",
       "4                         0                 0                        0   \n",
       "\n",
       "   vehicleclass_Luxury SUV  vehicleclass_SUV  vehicleclass_Sports Car  \\\n",
       "0                        0                 0                        0   \n",
       "1                        0                 0                        0   \n",
       "2                        0                 0                        0   \n",
       "3                        0                 1                        0   \n",
       "4                        0                 0                        0   \n",
       "\n",
       "   vehicleclass_Two-Door Car  vehiclesize_Medsize  vehiclesize_Small  \n",
       "0                          1                    1                  0  \n",
       "1                          0                    1                  0  \n",
       "2                          1                    1                  0  \n",
       "3                          0                    1                  0  \n",
       "4                          0                    1                  0  \n",
       "\n",
       "[5 rows x 51 columns]"
      ]
     },
     "execution_count": 54,
     "metadata": {},
     "output_type": "execute_result"
    }
   ],
   "source": [
    "#Transfomr Categorical data\n",
    "mktcus2 = pd.get_dummies(mktcus2, drop_first = True)\n",
    "mktcus2.head()"
   ]
  },
  {
   "cell_type": "code",
   "execution_count": 57,
   "metadata": {},
   "outputs": [],
   "source": [
    "# Import train_test_split\n",
    "from sklearn.model_selection import train_test_split"
   ]
  },
  {
   "cell_type": "code",
   "execution_count": 58,
   "metadata": {},
   "outputs": [],
   "source": [
    "# X - Y Split \n",
    "# Setting up Y (dependent) and X(independent) values\n",
    "\n",
    "# Y being \"totalclaimamount\"\n",
    "Y = mktcus2['totalclaimamount']\n",
    "\n",
    "# X being Mktnum - \"totalclaimamount\" column\n",
    "\n",
    "X = mktcus2.drop(['totalclaimamount'], axis = True)\n",
    "\n",
    "X_train, X_test, Y_train, Y_test = train_test_split(X,Y,test_size = 0.3, random_state = 100)"
   ]
  },
  {
   "cell_type": "markdown",
   "metadata": {},
   "source": [
    "## 05 - Applying Linear Regression Model"
   ]
  },
  {
   "cell_type": "code",
   "execution_count": 59,
   "metadata": {},
   "outputs": [
    {
     "data": {
      "text/plain": [
       "<matplotlib.axes._subplots.AxesSubplot at 0x2343632f880>"
      ]
     },
     "execution_count": 59,
     "metadata": {},
     "output_type": "execute_result"
    },
    {
     "data": {
      "image/png": "[encoded data removed]",
      "text/plain": [
       "<Figure size 432x288 with 1 Axes>"
      ]
     },
     "metadata": {
      "needs_background": "light"
     },
     "output_type": "display_data"
    }
   ],
   "source": [
    "from sklearn.linear_model import LinearRegression\n",
    "import math\n",
    "model = LinearRegression()\n",
    "\n",
    "lm = model.fit(X_train, Y_train)\n",
    "\n",
    "predictions = lm.predict(X_test)\n",
    "residuals = predictions - Y_test\n",
    "\n",
    "sns.distplot(residuals)"
   ]
  },
  {
   "cell_type": "markdown",
   "metadata": {},
   "source": [
    "## 06 - Model Validation"
   ]
  },
  {
   "cell_type": "code",
   "execution_count": 60,
   "metadata": {},
   "outputs": [],
   "source": [
    "# Import of libraries\n",
    "from sklearn.metrics import mean_squared_error, mean_absolute_error, r2_score\n",
    "from math import sqrt"
   ]
  },
  {
   "cell_type": "code",
   "execution_count": 61,
   "metadata": {},
   "outputs": [],
   "source": [
    "# Setting Metric formulas\n",
    "\n",
    "R2 = r2_score (Y_test,predictions)\n",
    "MSE = mean_squared_error (Y_test, predictions)\n",
    "RMSE = sqrt(MSE)\n",
    "MAE = mean_absolute_error (Y_test, predictions)"
   ]
  },
  {
   "cell_type": "code",
   "execution_count": 62,
   "metadata": {},
   "outputs": [
    {
     "name": "stdout",
     "output_type": "stream",
     "text": [
      "R2 Score = 0.873\n",
      "MSE = 0.000\n",
      "RMSE = 0.020\n",
      "MAE = 0.011\n"
     ]
    }
   ],
   "source": [
    "# Metric Results\n",
    "\n",
    "print(\"R2 Score = {:5.3f}\". format(R2))\n",
    "print(\"MSE = {:5.3f}\". format(MSE))\n",
    "print(\"RMSE = {:5.3f}\". format(RMSE))\n",
    "print(\"MAE = {:5.3f}\". format(MAE))"
   ]
  },
  {
   "cell_type": "code",
   "execution_count": null,
   "metadata": {},
   "outputs": [],
   "source": []
  }
 ],
 "metadata": {
  "kernelspec": {
   "display_name": "Python 3",
   "language": "python",
   "name": "python3"
  },
  "language_info": {
   "codemirror_mode": {
    "name": "ipython",
    "version": 3
   },
   "file_extension": ".py",
   "mimetype": "text/x-python",
   "name": "python",
   "nbconvert_exporter": "python",
   "pygments_lexer": "ipython3",
   "version": "3.8.3"
  }
 },
 "nbformat": 4,
 "nbformat_minor": 4
}
